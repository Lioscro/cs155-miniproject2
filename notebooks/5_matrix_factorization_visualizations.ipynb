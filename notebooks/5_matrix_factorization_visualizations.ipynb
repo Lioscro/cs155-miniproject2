{
 "cells": [
  {
   "cell_type": "markdown",
   "metadata": {},
   "source": [
    "# 5. Matrix Factorization Visualizations\n",
    "\n",
    "Let m, n be the number of users and movies, respectively, and Y be the m x n matrix of the movie ratings,\n",
    "where yij corresponds to user i’s rating for the movie j. Note that most of the elements of the matrix are\n",
    "unknown. The goal of a recommender system is to predict these missing values.\n",
    "Your job is to find the matrices U and V, such that Y ' UT V . Note that U has dimension k \u0002 m and V\n",
    "has dimension k \u0002 n. You must try at least three methods for finding U and V.\n",
    "1. Use (and/or modify) your code for Homework 5.\n",
    "2. Incorporate bias terms a and b for each user and movie, to model global tendencies of the various\n",
    "users and movies. See the guide for more information. You should write your own implementation\n",
    "of this method.\n",
    "3. Use an off-the-shelf implementation1. Google ”collaborative filtering python,” ”collaborative filtering\n",
    "matlab,” etc. to see examples. Note that in this assignment, we want you to try an off-the-shelf matrix\n",
    "factorization method, rather than any collaborative filtering method in general.\n",
    "\n",
    "For the first two methods, choose k = 20, and justify your choices for any other parameters and the\n",
    "stopping criteria you use. For all of these methods, split the MovieLens dataset into a training set (of size\n",
    "90,000) and a test set (of size 10,000), as given in the files train.txt and test.txt. You should then compare\n",
    "these methods by assessing their performance on the test set. Once you have obtained U; V , you will\n",
    "attempt to visualize and interpret your results.\n",
    "1. In order to visualize the resulting latent factors, apply SVD to V = A\u0006B and use the first two columns\n",
    "of A to project U, V into a two-dimensional space. This projection is given by ~U = AT\n",
    "1:2U 2 R2\u0002m and\n",
    "~ V = AT\n",
    "1:2V 2 R2\u0002n.\n",
    "2. Now, construct creative 2D-visualizations of ~ V , similar to the one in Figure 2 of the reference [1]. For\n",
    "each of the three matrix factorization methods, visualize the following:\n",
    "(a) Any ten movies of your choice from the MovieLens dataset.\n",
    "(b) The ten most popular movies (movies which have received the most ratings).\n",
    "(c) The ten best movies (movies with the highest average ratings).\n",
    "(d) Ten movies from the three genres you selected in Section 4, Basic Visualizations (for a total of 30\n",
    "movies). Create one visualization, containing ten movies, for each of the three genres you select."
   ]
  },
  {
   "cell_type": "code",
   "execution_count": 1,
   "metadata": {},
   "outputs": [],
   "source": [
    "import sys\n",
    "sys.path.append('..')\n",
    "\n",
    "import matplotlib\n",
    "import matplotlib.pyplot as plt\n",
    "import numpy as np\n",
    "import pandas as pd\n",
    "#import seaborn as sns\n",
    "\n",
    "from src import utils\n",
    "\n",
    "%matplotlib inline\n",
    "%config InlineBackend.figure_format = 'retina'"
   ]
  },
  {
   "cell_type": "code",
   "execution_count": 2,
   "metadata": {},
   "outputs": [],
   "source": [
    "df_data = utils.load_data()\n",
    "df_train = utils.load_train_data()\n",
    "df_test = utils.load_test_data()\n",
    "df_movies = utils.load_movies()"
   ]
  },
  {
   "cell_type": "markdown",
   "metadata": {},
   "source": [
    "### Homework 5 Question 2 Code"
   ]
  },
  {
   "cell_type": "code",
   "execution_count": 3,
   "metadata": {},
   "outputs": [],
   "source": [
    "def grad_U(Ui, Yij, Vj, reg, eta):\n",
    "    \"\"\"\n",
    "    Takes as input Ui (the ith row of U), a training point Yij, the column\n",
    "    vector Vj (jth column of V^T), reg (the regularization parameter lambda),\n",
    "    and eta (the learning rate).\n",
    "\n",
    "    Returns the gradient of the regularized loss function with\n",
    "    respect to Ui multiplied by eta.\n",
    "    \"\"\"\n",
    "    # just use the equation from 2a to compute the gradient of u_i\n",
    "    first_term = reg * Ui\n",
    "    second_term = Vj * (Yij - np.dot(Ui, Vj))\n",
    "    return eta * (first_term - second_term)\n",
    "\n",
    "def grad_V(Vj, Yij, Ui, reg, eta):\n",
    "    \"\"\"\n",
    "    Takes as input the column vector Vj (jth column of V^T), a training point Yij,\n",
    "    Ui (the ith row of U), reg (the regularization parameter lambda),\n",
    "    and eta (the learning rate).\n",
    "\n",
    "    Returns the gradient of the regularized loss function with\n",
    "    respect to Vj multiplied by eta.\n",
    "    \"\"\"\n",
    "    # just use the equation from 2a to compute the gradient of u_i\n",
    "    first_term = reg * Vj\n",
    "    second_term = np.multiply(Ui, (Yij - np.dot(Ui, Vj)))\n",
    "    return eta * (first_term - second_term)\n",
    "\n",
    "def get_err(U, V, Y, reg=0.0):\n",
    "    \"\"\"\n",
    "    Takes as input a matrix Y of triples (i, j, Y_ij) where i is the index of a user,\n",
    "    j is the index of a movie, and Y_ij is user i's rating of movie j and\n",
    "    user/movie matrices U and V.\n",
    "\n",
    "    Returns the mean regularized squared-error of predictions made by\n",
    "    estimating Y_{ij} as the dot product of the ith row of U and the jth column of V^T.\n",
    "    \"\"\"\n",
    "    # find the actual error of the predictions\n",
    "    total_incorrect = 0.0\n",
    "    for k in range(np.size(Y, 0)):\n",
    "        i = int(Y[k, 0])\n",
    "        j = int(Y[k, 1])\n",
    "        Y_ij = Y[k, 2]\n",
    "        # now try to modify both u_i and v_j\n",
    "        total_incorrect += ((Y_ij - np.dot(U[i, :], V[j, :])) ** 2)\n",
    "    # multiply by the factor of 0.5\n",
    "    total_incorrect *= 0.5\n",
    "    # now find the frobenius norm of U and V\n",
    "    total_regularized_error = (reg / 2.0) * \\\n",
    "            ((np.linalg.norm(U, ord = 'fro') ** 2) + (np.linalg.norm(V, ord = 'fro') ** 2))\n",
    "    # now return the entire error\n",
    "    return total_regularized_error + total_incorrect\n",
    "\n",
    "\n",
    "def train_model(M, N, K, eta, reg, Y, eps=0.0001, max_epochs=300):\n",
    "    \"\"\"\n",
    "    Given a training data matrix Y containing rows (i, j, Y_ij)\n",
    "    where Y_ij is user i's rating on movie j, learns an\n",
    "    M x K matrix U and N x K matrix V such that rating Y_ij is approximated\n",
    "    by (UV^T)_ij.\n",
    "\n",
    "    Uses a learning rate of <eta> and regularization of <reg>. Stops after\n",
    "    <max_epochs> epochs, or once the magnitude of the decrease in regularized\n",
    "    MSE between epochs is smaller than a fraction <eps> of the decrease in\n",
    "    MSE after the first epoch.\n",
    "\n",
    "    Returns a tuple (U, V, err) consisting of U, V, and the unregularized MSE\n",
    "    of the model.\n",
    "    \"\"\"\n",
    "    # initial the matrices of U and V to be [-0.5, 0.5]\n",
    "    U = np.random.rand(M, K) - 0.5\n",
    "    V = np.random.rand(N, K) - 0.5\n",
    "    # now begin the epochs\n",
    "    for l in range(max_epochs):\n",
    "        # quick print statements just to keep track of where we are\n",
    "        if ((l + 1) % 50 == 0):\n",
    "            print(f\"Currently on epoch #{l + 1}..\")\n",
    "        # store the initial loss\n",
    "        prev_err = get_err(U, V, Y, reg = reg)\n",
    "        # shuffle the data initially\n",
    "        shuffled_Y = np.copy(Y)\n",
    "        # now perform the actual shuffling\n",
    "        np.random.shuffle(shuffled_Y)\n",
    "        # now that the data is shuffled, we can try to adjust the values of U and V\n",
    "        for k in range(np.size(shuffled_Y, 0)):\n",
    "            i = int(shuffled_Y[k, 0])\n",
    "            j = int(shuffled_Y[k, 1])\n",
    "            Y_ij = shuffled_Y[k, 2]\n",
    "            # now try to modify both u_i and v_j\n",
    "            U[i, :] = U[i, :] - grad_U(U[i, :], Y_ij, V[j, :], reg, eta)\n",
    "            V[j, :] = V[j, :] - grad_V(V[j, :], Y_ij, U[i, :], reg, eta)\n",
    "        \n",
    "        # get the new error\n",
    "        new_err = get_err(U, V, Y, reg = reg)\n",
    "        loss_drop = prev_err - new_err\n",
    "        # test the earl stopping condition!\n",
    "        if (l == 0):\n",
    "            init_drop = loss_drop\n",
    "        if (l != 0 and loss_drop / init_drop <= eps):\n",
    "            print(f\"Stopping at epoch #{l + 1}\")\n",
    "            break\n",
    "                \n",
    "    print(f\"Model training is complete!\")\n",
    "    return U, V, get_err(U, V, Y)"
   ]
  },
  {
   "cell_type": "markdown",
   "metadata": {},
   "source": [
    "### Actual Visualization Code after Matrix Factorization"
   ]
  },
  {
   "cell_type": "code",
   "execution_count": 4,
   "metadata": {},
   "outputs": [],
   "source": [
    "# handy function that performs the SVD for V and then gives the 2D projection of V back\n",
    "def plot_2d_projection_V(V_mat, indices = list(range(10))):\n",
    "    # first, perform the SVD to get the 2 columns\n",
    "    A, s, vh = np.linalg.svd(V_mat)\n",
    "    # get the first two columns\n",
    "    u_12 = A[:,:2]\n",
    "    V_bar = np.transpose(np.matmul(u_12.T, V_mat)) # returns an (n by 2) matrix\n",
    "    \n",
    "    # TODO: scale the data to be between -1 and 1?\n",
    "    \n",
    "    # now perform the actual plotting\n",
    "    to_plot = V_bar[indices, :]\n",
    "    plt.scatter(to_plot[:, 0], to_plot[:, 1])\n",
    "    plt.show()\n",
    "    return\n",
    "    "
   ]
  },
  {
   "cell_type": "markdown",
   "metadata": {},
   "source": [
    "### Data Cleansing"
   ]
  },
  {
   "cell_type": "markdown",
   "metadata": {},
   "source": [
    "This is essentially the cleansing of the data meant to deal with two main issues:\n",
    "1) Some movies do not have ratings, this is handled by finding those movies and giving them a default rating of 2.5\n",
    "2) Some movies have the same title but a different ID, I am not sure exactly what the issue is with this to be totally honest"
   ]
  },
  {
   "cell_type": "code",
   "execution_count": 5,
   "metadata": {},
   "outputs": [],
   "source": [
    "df_data = utils.load_data()\n",
    "df_train = utils.load_train_data()\n",
    "df_test = utils.load_test_data()\n",
    "df_movies = utils.load_movies()\n",
    "\n",
    "# initial data cleansing\n",
    "\n",
    "# get the raw data in the form of a matrix\n",
    "raw_ratings_train = df_train.to_numpy()\n",
    "raw_ratings_test = df_test.to_numpy()\n",
    "\n",
    "# 1) handle the fact that some movies do not have ratings\n",
    "movies_with_ratings = np.unique(raw_ratings_train[:,1])\n",
    "\n",
    "max_user_id = max(max(raw_ratings_train[:,0]), max(raw_ratings_test[:,0])).astype(int) # users\n",
    "\n",
    "# we know that there are 1682 films\n",
    "all_films = np.array(list(range(1, 1683)))\n",
    "\n",
    "# loop through all the movies and determine which ones do not have a rating\n",
    "for film in movies_with_ratings:\n",
    "    all_films[film - 1] = 0\n",
    "    \n",
    "films_without_ratings = np.unique(all_films)\n",
    "\n",
    "# we are going to add ratings for all the films without ratings and label this as a rating by an additional user\n",
    "# user number 944 to be exact who rates all these 14 missing films with a rating of 2.5\n",
    "to_add = []\n",
    "for film_wo_rating in films_without_ratings:\n",
    "    # filter out the zero that was used to identify all films with ratings\n",
    "    if (film_wo_rating == 0):\n",
    "        pass\n",
    "    else:\n",
    "        to_add.append([max_user_id + 1, film_wo_rating, 2.5])\n",
    "    \n",
    "additional_df_train = pd.DataFrame(to_add, columns=list(df_train))\n",
    "# append these new default ratings with new default user to the dataframe\n",
    "df_train = df_train.append(additional_df_train, ignore_index=True)\n",
    "\n",
    "# TODO: handle the cleaning based on the fact that some movies have diff ID's but same title"
   ]
  },
  {
   "cell_type": "markdown",
   "metadata": {},
   "source": [
    "### Matrix Factorization Visualizations Based on HW 5"
   ]
  },
  {
   "cell_type": "code",
   "execution_count": 6,
   "metadata": {},
   "outputs": [
    {
     "name": "stdout",
     "output_type": "stream",
     "text": [
      "Factorizing with  944  users,  1682  movies.\n",
      "Stopping at epoch #16\n",
      "Model training is complete!\n"
     ]
    }
   ],
   "source": [
    "Y_train = df_train.to_numpy()\n",
    "Y_test = df_test.to_numpy()\n",
    "\n",
    "M = max(max(Y_train[:,0]), max(Y_test[:,0])).astype(int) # users\n",
    "N = max(max(Y_train[:,1]), max(Y_test[:,1])).astype(int) # movies\n",
    "print(\"Factorizing with \", M, \" users, \", N, \" movies.\")\n",
    "K = 20\n",
    "\n",
    "# just to track runtime warnings\n",
    "np.seterr(all='raise')\n",
    "# zero index these\n",
    "Y_train[:, 0] = Y_train[:, 0] - 1\n",
    "Y_train[:, 1] = Y_train[:, 1] - 1\n",
    "Y_test[:, 0] = Y_test[:, 0] - 1\n",
    "Y_test[:, 1] = Y_test[:, 1] - 1\n",
    "\n",
    "reg = 0.1\n",
    "eta = 0.03 # learning rate\n",
    "\n",
    "# actually run the code\n",
    "U,V, err = train_model(M, N, K, eta, reg, Y_train)\n",
    "E_in = err\n",
    "E_out = get_err(U, V, Y_test)\n",
    "\n"
   ]
  },
  {
   "cell_type": "code",
   "execution_count": 7,
   "metadata": {},
   "outputs": [
    {
     "data": {
      "image/png": "[encoded data removed]",
      "text/plain": [
       "<Figure size 432x288 with 1 Axes>"
      ]
     },
     "metadata": {
      "image/png": {
       "height": 248,
       "width": 370
      },
      "needs_background": "light"
     },
     "output_type": "display_data"
    }
   ],
   "source": [
    "# attempt the visualization\n",
    "plot_2d_projection_V(V)"
   ]
  },
  {
   "cell_type": "code",
   "execution_count": null,
   "metadata": {},
   "outputs": [],
   "source": []
  }
 ],
 "metadata": {
  "kernelspec": {
   "display_name": "Python 3",
   "language": "python",
   "name": "python3"
  },
  "language_info": {
   "codemirror_mode": {
    "name": "ipython",
    "version": 3
   },
   "file_extension": ".py",
   "mimetype": "text/x-python",
   "name": "python",
   "nbconvert_exporter": "python",
   "pygments_lexer": "ipython3",
   "version": "3.7.1"
  }
 },
 "nbformat": 4,
 "nbformat_minor": 4
}
