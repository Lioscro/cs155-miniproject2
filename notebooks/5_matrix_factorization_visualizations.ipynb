{
 "cells": [
  {
   "cell_type": "markdown",
   "metadata": {},
   "source": [
    "# 5. Matrix Factorization Visualizations\n",
    "\n",
    "Let m, n be the number of users and movies, respectively, and Y be the m x n matrix of the movie ratings,\n",
    "where yij corresponds to user i’s rating for the movie j. Note that most of the elements of the matrix are\n",
    "unknown. The goal of a recommender system is to predict these missing values.\n",
    "Your job is to find the matrices U and V, such that Y ' UT V . Note that U has dimension k \u0002 m and V\n",
    "has dimension k \u0002 n. You must try at least three methods for finding U and V.\n",
    "1. Use (and/or modify) your code for Homework 5.\n",
    "2. Incorporate bias terms a and b for each user and movie, to model global tendencies of the various\n",
    "users and movies. See the guide for more information. You should write your own implementation\n",
    "of this method.\n",
    "3. Use an off-the-shelf implementation1. Google ”collaborative filtering python,” ”collaborative filtering\n",
    "matlab,” etc. to see examples. Note that in this assignment, we want you to try an off-the-shelf matrix\n",
    "factorization method, rather than any collaborative filtering method in general.\n",
    "\n",
    "For the first two methods, choose k = 20, and justify your choices for any other parameters and the\n",
    "stopping criteria you use. For all of these methods, split the MovieLens dataset into a training set (of size\n",
    "90,000) and a test set (of size 10,000), as given in the files train.txt and test.txt. You should then compare\n",
    "these methods by assessing their performance on the test set. Once you have obtained U; V , you will\n",
    "attempt to visualize and interpret your results.\n",
    "1. In order to visualize the resulting latent factors, apply SVD to V = A\u0006B and use the first two columns\n",
    "of A to project U, V into a two-dimensional space. This projection is given by ~U = AT\n",
    "1:2U 2 R2\u0002m and\n",
    "~ V = AT\n",
    "1:2V 2 R2\u0002n.\n",
    "2. Now, construct creative 2D-visualizations of ~ V , similar to the one in Figure 2 of the reference [1]. For\n",
    "each of the three matrix factorization methods, visualize the following:\n",
    "(a) Any ten movies of your choice from the MovieLens dataset.\n",
    "(b) The ten most popular movies (movies which have received the most ratings).\n",
    "(c) The ten best movies (movies with the highest average ratings).\n",
    "(d) Ten movies from the three genres you selected in Section 4, Basic Visualizations (for a total of 30\n",
    "movies). Create one visualization, containing ten movies, for each of the three genres you select."
   ]
  },
  {
   "cell_type": "code",
   "execution_count": 2,
   "metadata": {},
   "outputs": [],
   "source": [
    "import sys\n",
    "sys.path.append('..')\n",
    "\n",
    "import matplotlib\n",
    "import matplotlib.pyplot as plt\n",
    "import numpy as np\n",
    "import pandas as pd\n",
    "import seaborn as sns\n",
    "\n",
    "from src import utils\n",
    "\n",
    "%matplotlib inline\n",
    "%config InlineBackend.figure_format = 'retina'"
   ]
  },
  {
   "cell_type": "code",
   "execution_count": 3,
   "metadata": {},
   "outputs": [],
   "source": [
    "df_data = utils.load_data()\n",
    "df_train = utils.load_train_data()\n",
    "df_test = utils.load_test_data()\n",
    "df_movies = utils.load_movies()"
   ]
  },
  {
   "cell_type": "code",
   "execution_count": null,
   "metadata": {},
   "outputs": [],
   "source": []
  }
 ],
 "metadata": {
  "kernelspec": {
   "display_name": "Python 3",
   "language": "python",
   "name": "python3"
  },
  "language_info": {
   "codemirror_mode": {
    "name": "ipython",
    "version": 3
   },
   "file_extension": ".py",
   "mimetype": "text/x-python",
   "name": "python",
   "nbconvert_exporter": "python",
   "pygments_lexer": "ipython3",
   "version": "3.7.4"
  }
 },
 "nbformat": 4,
 "nbformat_minor": 4
}
